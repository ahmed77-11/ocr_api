{
 "cells": [
  {
   "metadata": {},
   "cell_type": "markdown",
   "source": "#  Fraud Detection ML Pipeline - Advanced Version",
   "id": "a94c6de8316373d6"
  },
  {
   "metadata": {},
   "cell_type": "markdown",
   "source": "## Step 0: imports",
   "id": "971b557f09b238b"
  },
  {
   "metadata": {
    "ExecuteTime": {
     "end_time": "2025-05-26T18:53:00.997988Z",
     "start_time": "2025-05-26T18:53:00.978206Z"
    }
   },
   "cell_type": "code",
   "source": [
    "import os\n",
    "import pandas as pd\n",
    "import numpy as np\n",
    "import matplotlib.pyplot as plt\n",
    "import seaborn as sns\n",
    "from sqlalchemy import create_engine\n",
    "import joblib\n",
    "import tensorflow as tf\n",
    "from tensorflow.keras import layers, models, callbacks\n",
    "from sklearn.model_selection import train_test_split\n",
    "from sklearn.metrics import roc_auc_score, precision_recall_curve, RocCurveDisplay, PrecisionRecallDisplay, confusion_matrix\n",
    "from imblearn.over_sampling import SMOTE\n",
    "import shap\n",
    "import optuna\n",
    "from sklearn.feature_extraction.text import TfidfVectorizer"
   ],
   "id": "5f47dd1bef9740f9",
   "execution_count": 407,
   "outputs": []
  },
  {
   "metadata": {},
   "cell_type": "markdown",
   "source": "##  Step1: Database connection\n",
   "id": "117f238ec82466f9"
  },
  {
   "metadata": {
    "ExecuteTime": {
     "end_time": "2025-05-26T18:53:01.295748Z",
     "start_time": "2025-05-26T18:53:01.288966Z"
    }
   },
   "cell_type": "code",
   "source": [
    "DB_URI = os.getenv('DB_URI', 'sqlite:///drafts1.db')\n",
    "engine = create_engine(DB_URI)"
   ],
   "id": "de60976ae06861f",
   "execution_count": 408,
   "outputs": []
  },
  {
   "metadata": {},
   "cell_type": "markdown",
   "source": "# 1. Load & Clean Data",
   "id": "67969e8e6ac5023e"
  },
  {
   "metadata": {
    "ExecuteTime": {
     "end_time": "2025-05-26T18:53:01.357373Z",
     "start_time": "2025-05-26T18:53:01.314538Z"
    }
   },
   "cell_type": "code",
   "source": [
    "df = pd.read_sql('SELECT * FROM drafts', engine)\n",
    "df.head()"
   ],
   "id": "b9e442e4d46f6199",
   "execution_count": 409,
   "outputs": []
  },
  {
   "metadata": {
    "ExecuteTime": {
     "end_time": "2025-05-26T18:53:01.434289Z",
     "start_time": "2025-05-26T18:53:01.390486Z"
    }
   },
   "cell_type": "code",
   "source": [
    "for col in ['bank', 'place_created', 'drawer_name', 'payer_name_address', 'amount_words']:\n",
    "    df[col] = df[col].astype(str).str.strip()\n",
    "\n",
    "# Convert dates and numeric\n",
    "for col in ['date_created', 'date_due']:\n",
    "    df[col] = pd.to_datetime(df[col], errors='coerce')\n",
    "df['amount_digits'] = pd.to_numeric(df['amount_digits'], errors='coerce')\n",
    "\n",
    "# Filter invalid\n",
    "df = df.dropna(subset=['amount_digits', 'date_created', 'date_due', 'rib'])\n",
    "df['gap_days'] = (df['date_due'] - df['date_created']).dt.days\n",
    "df['fraud_label'] = df['fraud_label'].astype(int)\n",
    "df.shape\n",
    "df.head()"
   ],
   "id": "8cf4df226bc0adf9",
   "execution_count": 410,
   "outputs": []
  },
  {
   "metadata": {},
   "cell_type": "markdown",
   "source": "# 2. Exploratory Data Analysis",
   "id": "91a2494bd513caae"
  },
  {
   "metadata": {},
   "cell_type": "markdown",
   "source": "### Fraud distribution\n",
   "id": "8327cb95c47b9337"
  },
  {
   "metadata": {
    "ExecuteTime": {
     "end_time": "2025-05-26T18:53:01.603081Z",
     "start_time": "2025-05-26T18:53:01.448368Z"
    }
   },
   "cell_type": "code",
   "source": [
    "sns.countplot(x='fraud_label', data=df)\n",
    "plt.title('Fraud vs Legit Distribution')\n",
    "plt.show()"
   ],
   "id": "db9dfb33d281546a",
   "execution_count": 411,
   "outputs": []
  },
  {
   "metadata": {},
   "cell_type": "markdown",
   "source": "# Amount distribution\n",
   "id": "1015a2f1c60bb515"
  },
  {
   "metadata": {
    "ExecuteTime": {
     "end_time": "2025-05-26T18:53:02.035439Z",
     "start_time": "2025-05-26T18:53:01.605081Z"
    }
   },
   "cell_type": "code",
   "source": [
    "plt.figure(figsize=(10, 5))\n",
    "sns.histplot(data=df, x='amount_digits', hue='fraud_label', bins=50, kde=True)\n",
    "plt.title('Amount Distribution by Label')\n",
    "plt.show()"
   ],
   "id": "fd53db98d94a1e71",
   "execution_count": 412,
   "outputs": []
  },
  {
   "metadata": {},
   "cell_type": "markdown",
   "source": "# Time gap\n",
   "id": "f6202c8c119ec4c6"
  },
  {
   "metadata": {
    "ExecuteTime": {
     "end_time": "2025-05-26T18:53:02.236655Z",
     "start_time": "2025-05-26T18:53:02.038427Z"
    }
   },
   "cell_type": "code",
   "source": [
    "sns.boxplot(x='fraud_label', y='gap_days', data=df)\n",
    "plt.title('Gap Days Distribution')\n",
    "plt.show()\n"
   ],
   "id": "bfa888f4ddb08901",
   "execution_count": 413,
   "outputs": []
  },
  {
   "metadata": {},
   "cell_type": "markdown",
   "source": "# Correlation\n",
   "id": "114b0cf11dc79e74"
  },
  {
   "metadata": {
    "ExecuteTime": {
     "end_time": "2025-05-26T18:53:02.529252Z",
     "start_time": "2025-05-26T18:53:02.240570Z"
    }
   },
   "cell_type": "code",
   "source": [
    "numeric_cols = ['amount_digits', 'gap_days']\n",
    "sns.heatmap(df[numeric_cols + ['fraud_label']].corr(), annot=True, cmap='coolwarm')\n",
    "plt.title('Correlation Matrix')\n",
    "plt.show()"
   ],
   "id": "fad48070a3976bc3",
   "execution_count": 414,
   "outputs": []
  },
  {
   "metadata": {},
   "cell_type": "markdown",
   "source": "# Violin plots for richer distribution insights\n",
   "id": "595f012745f539c1"
  },
  {
   "metadata": {
    "ExecuteTime": {
     "end_time": "2025-05-26T18:53:02.729840Z",
     "start_time": "2025-05-26T18:53:02.532220Z"
    }
   },
   "cell_type": "code",
   "source": [
    "plt.figure(figsize=(12, 6))\n",
    "sns.violinplot(x='fraud_label', y='amount_digits', data=df)\n",
    "plt.title('Violin Plot of Amount by Fraud Label')\n",
    "plt.show()"
   ],
   "id": "ac8a4056644ca43d",
   "execution_count": 415,
   "outputs": []
  },
  {
   "metadata": {},
   "cell_type": "markdown",
   "source": "# Pair plot for selected numeric features\n",
   "id": "dcfad6a5b4fabf47"
  },
  {
   "metadata": {
    "ExecuteTime": {
     "end_time": "2025-05-26T18:53:04.048654Z",
     "start_time": "2025-05-26T18:53:02.731844Z"
    }
   },
   "cell_type": "code",
   "source": [
    "sns.pairplot(df[['amount_digits', 'gap_days', 'fraud_label']], hue='fraud_label')\n",
    "plt.suptitle('Pair Plot of Key Features', y=1.02)\n",
    "plt.show()"
   ],
   "id": "dab641523712b3e9",
   "execution_count": 416,
   "outputs": []
  },
  {
   "metadata": {},
   "cell_type": "markdown",
   "source": "# signature detected plot\n",
   "id": "45cf333499b1f103"
  },
  {
   "metadata": {
    "ExecuteTime": {
     "end_time": "2025-05-26T18:53:04.156651Z",
     "start_time": "2025-05-26T18:53:04.050655Z"
    }
   },
   "cell_type": "code",
   "source": [
    "sns.countplot(x=\"signature_detected\",data=df)\n",
    "plt.title('Count Plot of Signature Detected')\n",
    "plt.show()"
   ],
   "id": "1de13e9576839a70",
   "execution_count": 417,
   "outputs": []
  },
  {
   "metadata": {},
   "cell_type": "markdown",
   "source": "# Count plot of RIB validity\n",
   "id": "fb5edc23184a7cb"
  },
  {
   "metadata": {
    "ExecuteTime": {
     "end_time": "2025-05-26T18:53:04.297518Z",
     "start_time": "2025-05-26T18:53:04.159815Z"
    }
   },
   "cell_type": "code",
   "source": [
    "def is_valid_rib(v: str) -> bool:\n",
    "    s = v.replace(' ', '').replace('-', '')\n",
    "    if len(s) != 20:\n",
    "        return False\n",
    "    n = int(s[:-2] + '00')\n",
    "    chk = 97 - (n % 97)\n",
    "    return chk == int(s[-2:])\n",
    "df['rib_valid'] = df['rib'].apply(is_valid_rib)\n",
    "counts = df['rib_valid'].value_counts()\n",
    "print(f\"Valid RIBs:   {counts.get(True, 0)}\")\n",
    "print(f\"Invalid RIBs: {counts.get(False, 0)}\")\n",
    "plt.figure(figsize=(8,5))\n",
    "sns.countplot(\n",
    "    data=df,\n",
    "    x='rib_valid',           # now a boolean column\n",
    "    hue='fraud_label'        # 0 = legit, 1 = fraud\n",
    ")\n",
    "plt.title('RIB Validity by Fraud Label')\n",
    "plt.xlabel('RIB Valid Format')\n",
    "plt.ylabel('Count')\n",
    "plt.xticks([0,1], ['Invalid', 'Valid'])\n",
    "plt.legend(title='Fraud Label', labels=['Legit (0)', 'Fraud (1)'])\n",
    "plt.tight_layout()\n",
    "plt.show()"
   ],
   "id": "c796352846cf546e",
   "execution_count": 418,
   "outputs": []
  },
  {
   "metadata": {
    "ExecuteTime": {
     "end_time": "2025-05-26T18:53:04.312806Z",
     "start_time": "2025-05-26T18:53:04.299033Z"
    }
   },
   "cell_type": "code",
   "source": "",
   "id": "11d7a8ab22949acb",
   "execution_count": 418,
   "outputs": []
  },
  {
   "metadata": {},
   "cell_type": "markdown",
   "source": "## Step 3: Feature Engineering",
   "id": "27dd6081be5a635"
  },
  {
   "metadata": {
    "ExecuteTime": {
     "end_time": "2025-05-26T18:53:04.328315Z",
     "start_time": "2025-05-26T18:53:04.313827Z"
    }
   },
   "cell_type": "code",
   "source": [
    "def amount_to_words_fr(x):\n",
    "    from num2words import num2words\n",
    "    return num2words(x, lang='fr').replace('virgule', 'dinars zéro')\n",
    "\n",
    "def is_valid_rib(v):\n",
    "    s = v.replace(' ', '').replace('-', '')\n",
    "    if len(s) != 20:\n",
    "        return False\n",
    "    n = int(s[:-2] + '00')\n",
    "    chk = 97 - (n % 97)\n",
    "    return chk == int(s[-2:])"
   ],
   "id": "ab374b7ba6df378f",
   "execution_count": 419,
   "outputs": []
  },
  {
   "metadata": {},
   "cell_type": "markdown",
   "source": "# Feature columns",
   "id": "f299a5dda881dd22"
  },
  {
   "metadata": {
    "ExecuteTime": {
     "end_time": "2025-05-26T18:53:04.946562Z",
     "start_time": "2025-05-26T18:53:04.329596Z"
    }
   },
   "cell_type": "code",
   "source": [
    "df['amount_words_match'] = (df['amount_words'] == df['amount_digits'].apply(amount_to_words_fr)).astype(int)\n",
    "df['sig_missing'] = (~df['signature_detected']).astype(int)\n",
    "df['barcode_bad'] = (~df['barcode_validates_traite']).astype(int)\n",
    "df['rib_invalid'] = (~df['rib'].apply(is_valid_rib)).astype(int)\n",
    "df['payer_len'] = df['payer_name_address'].str.len()\n",
    "df['drawer_len'] = df['drawer_name'].str.len()\n",
    "\n",
    "feature_cols = ['amount_digits', 'gap_days', 'amount_words_match', 'sig_missing', 'barcode_bad', 'rib_invalid', 'payer_len', 'drawer_len']\n",
    "X = df[feature_cols]\n",
    "y = df['fraud_label']"
   ],
   "id": "73ee751ebda8ae7c",
   "execution_count": 420,
   "outputs": []
  },
  {
   "metadata": {
    "ExecuteTime": {
     "end_time": "2025-05-26T18:53:04.961776Z",
     "start_time": "2025-05-26T18:53:04.948369Z"
    }
   },
   "cell_type": "code",
   "source": "X",
   "id": "b1e25d9de48659c0",
   "execution_count": 421,
   "outputs": []
  },
  {
   "metadata": {
    "ExecuteTime": {
     "end_time": "2025-05-26T18:53:04.993401Z",
     "start_time": "2025-05-26T18:53:04.963607Z"
    }
   },
   "cell_type": "code",
   "source": "y",
   "id": "d02392144fb031ca",
   "execution_count": 422,
   "outputs": []
  },
  {
   "metadata": {},
   "cell_type": "markdown",
   "source": "## Step 4: Data Preprocessing Pipeline\n",
   "id": "738cdc6d492c5665"
  },
  {
   "metadata": {
    "ExecuteTime": {
     "end_time": "2025-05-26T18:53:05.009792Z",
     "start_time": "2025-05-26T18:53:04.996385Z"
    }
   },
   "cell_type": "code",
   "source": [
    "from sklearn.preprocessing import StandardScaler\n",
    "from sklearn.compose import ColumnTransformer\n",
    "\n",
    "numeric_features = ['amount_digits', 'gap_days', 'payer_len', 'drawer_len']\n",
    "categorical_features = ['sig_missing', 'barcode_bad', 'rib_invalid', 'amount_words_match']\n",
    "preprocessor = ColumnTransformer([\n",
    "    ('num', StandardScaler(), numeric_features),\n",
    "    ('cat', 'passthrough', categorical_features)\n",
    "])\n",
    "X_train, X_test, y_train, y_test = train_test_split(X, y, test_size=0.2, random_state=42, stratify=y)\n"
   ],
   "id": "1eb4fdcc9ffbc7a4",
   "execution_count": 423,
   "outputs": []
  },
  {
   "metadata": {},
   "cell_type": "markdown",
   "source": "## Step 5: TensorFlow Neural Network Classifier",
   "id": "2a3e694a7849018c"
  },
  {
   "metadata": {
    "ExecuteTime": {
     "end_time": "2025-05-26T18:53:11.259368Z",
     "start_time": "2025-05-26T18:53:05.011569Z"
    }
   },
   "cell_type": "code",
   "source": [
    "model = tf.keras.Sequential([\n",
    "    tf.keras.layers.Input(shape=(X.shape[1],)),\n",
    "    tf.keras.layers.Dense(16, activation='relu'),\n",
    "    tf.keras.layers.Dense(8, activation='relu'),\n",
    "    tf.keras.layers.Dense(1, activation='sigmoid')\n",
    "])\n",
    "\n",
    "model.compile(optimizer='adam', loss='binary_crossentropy', metrics=['accuracy'])\n",
    "X_train_scaled = preprocessor.fit_transform(X_train)\n",
    "X_test_scaled = preprocessor.transform(X_test)\n",
    "\n",
    "model.fit(X_train_scaled, y_train, epochs=30, batch_size=32, validation_split=0.2, callbacks=[tf.keras.callbacks.EarlyStopping(patience=5)])"
   ],
   "id": "e07b74e97ca7226d",
   "execution_count": 424,
   "outputs": []
  },
  {
   "metadata": {},
   "cell_type": "markdown",
   "source": "## Step 6: Evaluation\n",
   "id": "67a31f2454dee04d"
  },
  {
   "metadata": {
    "ExecuteTime": {
     "end_time": "2025-05-26T18:53:11.502961Z",
     "start_time": "2025-05-26T18:53:11.261647Z"
    }
   },
   "cell_type": "code",
   "source": [
    "from sklearn.metrics import classification_report\n",
    "\n",
    "preds = model.predict(X_test_scaled).flatten()\n",
    "preds_label = (preds > 0.5).astype(int)\n",
    "\n",
    "print(classification_report(y_test, preds_label))\n",
    "print(\"ROC AUC:\", roc_auc_score(y_test, preds))\n",
    "\n",
    "sns.heatmap(confusion_matrix(y_test, preds_label), annot=True, fmt='d', cmap='Blues')\n",
    "plt.title('Confusion Matrix')\n",
    "plt.show()"
   ],
   "id": "c84bf16e3cc3f216",
   "execution_count": 425,
   "outputs": []
  },
  {
   "metadata": {},
   "cell_type": "markdown",
   "source": "## Step 9: SHAP Explainability (on XGBoost for variety)\n",
   "id": "e6366bce5480b36"
  },
  {
   "metadata": {
    "ExecuteTime": {
     "end_time": "2025-05-26T18:53:12.426406Z",
     "start_time": "2025-05-26T18:53:11.505067Z"
    }
   },
   "cell_type": "code",
   "source": [
    "import  xgboost as xgb\n",
    "\n",
    "xgb_clf = xgb.XGBClassifier( eval_metric='logloss')\n",
    "xgb_clf.fit(X_train, y_train)\n",
    "\n",
    "explainer = shap.Explainer(xgb_clf)\n",
    "shap_values = explainer(X_test)\n",
    "shap.summary_plot(shap_values, X_test)\n",
    "\n"
   ],
   "id": "ab8a7c776c275286",
   "execution_count": 426,
   "outputs": []
  },
  {
   "metadata": {
    "ExecuteTime": {
     "end_time": "2025-05-26T18:53:12.441434Z",
     "start_time": "2025-05-26T18:53:12.428598Z"
    }
   },
   "cell_type": "code",
   "source": "",
   "id": "16cb9e8c4705e1f6",
   "execution_count": 426,
   "outputs": []
  },
  {
   "metadata": {},
   "cell_type": "markdown",
   "source": "## Step 7: Save Models\n",
   "id": "eceb4336d0794578"
  },
  {
   "metadata": {
    "ExecuteTime": {
     "end_time": "2025-05-26T18:53:12.487340Z",
     "start_time": "2025-05-26T18:53:12.445661Z"
    }
   },
   "cell_type": "code",
   "source": [
    "model.save('model_tf1.keras')   # or: model.save('model_tf', save_format='tf')\n",
    "joblib.dump(preprocessor, './preprocessor1.pkl')\n",
    "joblib.dump(xgb_clf, './xgb_model1.pkl')"
   ],
   "id": "90bfc08a2f2f345f",
   "execution_count": 427,
   "outputs": []
  },
  {
   "metadata": {},
   "cell_type": "markdown",
   "source": "## Step 8: Inference Template\n",
   "id": "b1fc2ee60f8dee35"
  },
  {
   "metadata": {
    "ExecuteTime": {
     "end_time": "2025-05-26T18:53:12.502284Z",
     "start_time": "2025-05-26T18:53:12.489192Z"
    }
   },
   "cell_type": "code",
   "source": [
    "def predict_fraud(new_data):\n",
    "    model = tf.keras.models.load_model('model_tf1.keras')\n",
    "    preprocessor = joblib.load('./preprocessor1.pkl')\n",
    "    X_new = pd.DataFrame([new_data])[feature_cols]\n",
    "    X_scaled = preprocessor.transform(X_new)\n",
    "    prob = float(model.predict(X_scaled)[0][0])\n",
    "    return {'fraud_score': prob, 'fraud_label': prob > 0.5}"
   ],
   "id": "d484397095606ddd",
   "execution_count": 428,
   "outputs": []
  },
  {
   "metadata": {
    "ExecuteTime": {
     "end_time": "2025-05-26T18:53:12.518244Z",
     "start_time": "2025-05-26T18:53:12.503705Z"
    }
   },
   "cell_type": "code",
   "source": [
    "def predict_from_raw(raw_data):\n",
    "    from num2words import num2words\n",
    "\n",
    "    def amount_to_words_fr(x):\n",
    "        return num2words(x, lang='fr').replace('virgule', 'dinars zéro')\n",
    "\n",
    "    def is_valid_rib(v):\n",
    "        s = str(v).replace(' ', '').replace('-', '')\n",
    "        if len(s) != 20 or not s.isdigit():\n",
    "            return False\n",
    "        try:\n",
    "            n = int(s[:-2] + '00')\n",
    "            chk = 97 - (n % 97)\n",
    "            return chk == int(s[-2:])\n",
    "        except:\n",
    "            return False\n",
    "\n",
    "    # Derive features\n",
    "    try:\n",
    "        raw_data['date_created'] = pd.to_datetime(raw_data['date_created'])\n",
    "        raw_data['date_due'] = pd.to_datetime(raw_data['date_due'])\n",
    "        gap_days = (raw_data['date_due'] - raw_data['date_created']).days\n",
    "    except:\n",
    "        gap_days = 0\n",
    "\n",
    "    features = {\n",
    "        'amount_digits': raw_data['amount_digits'],\n",
    "        'gap_days': gap_days,\n",
    "        'amount_words_match': int(raw_data['amount_words'] == amount_to_words_fr(raw_data['amount_digits'])),\n",
    "        'sig_missing': int(not raw_data.get('signature_detected', True)),\n",
    "        'barcode_bad': int(not raw_data.get('barcode_validates_traite', True)),\n",
    "        'rib_invalid': int(not is_valid_rib(raw_data['rib'])),\n",
    "        'payer_len': len(str(raw_data.get('payer_name_address', ''))),\n",
    "        'drawer_len': len(str(raw_data.get('drawer_name', '')))\n",
    "    }\n",
    "\n",
    "    # Model + prediction\n",
    "    model = tf.keras.models.load_model('model_tf1.keras')\n",
    "    preprocessor = joblib.load('preprocessor1.pkl')\n",
    "    X_new = pd.DataFrame([features])\n",
    "    X_scaled = preprocessor.transform(X_new)\n",
    "    prob = float(model.predict(X_scaled)[0][0])\n",
    "    print(prob)\n",
    "    return {'fraud_score': round(prob, 3), 'fraud_label': prob > 0.5}\n",
    "\n",
    "\n"
   ],
   "id": "cb24ec70c31e73a8",
   "execution_count": 429,
   "outputs": []
  },
  {
   "metadata": {
    "ExecuteTime": {
     "end_time": "2025-05-26T18:53:12.732109Z",
     "start_time": "2025-05-26T18:53:12.519251Z"
    }
   },
   "cell_type": "code",
   "source": [
    "legit_example_2 = {\n",
    "    'date_created': '2024-03-10',\n",
    "    'date_due': '2024-03-20',\n",
    "    'amount_digits': 1450.50,\n",
    "    'amount_words': 'mille quatre cent cinquante dinars zéro',\n",
    "    'signature_detected': True,\n",
    "    'barcode_validates_traite': True,\n",
    "    'rib': '03902013011500052013',\n",
    "    'payer_name_address': 'Société Générale, 45 avenue Bourguiba, Tunis',\n",
    "    'drawer_name': 'Tunis Commerce International'\n",
    "}\n",
    "\n",
    "predict_from_raw(legit_example_2)\n",
    "\n",
    "\n"
   ],
   "id": "87af26bcf6486f41",
   "execution_count": 430,
   "outputs": []
  },
  {
   "metadata": {
    "ExecuteTime": {
     "end_time": "2025-05-26T18:55:00.808872Z",
     "start_time": "2025-05-26T18:55:00.525328Z"
    }
   },
   "cell_type": "code",
   "source": [
    "legit_example_2 = {\n",
    "    'date_created': '2024-03-10',\n",
    "    'date_due': '2024-03-20',\n",
    "    'amount_digits': 1451.50,\n",
    "    'amount_words': 'mille quatre cent cinquante dinars zéro',\n",
    "    'signature_detected': True,\n",
    "    'barcode_validates_traite': True,\n",
    "    'rib': '12345678901234567890',  # valid format assumed\n",
    "    'payer_name_address': 'Société Générale, 45 avenue Bourguiba, Tunis',\n",
    "    'drawer_name': 'Tunis Commerce International'\n",
    "}\n",
    "\n",
    "print(predict_from_raw(legit_example_2))\n",
    "\n"
   ],
   "id": "2a88f2211535f844",
   "execution_count": 432,
   "outputs": []
  },
  {
   "metadata": {
    "ExecuteTime": {
     "end_time": "2025-05-26T18:53:12.915477Z",
     "start_time": "2025-05-26T18:53:12.901864Z"
    }
   },
   "cell_type": "code",
   "source": "\n",
   "id": "39835dee2560a25",
   "execution_count": 431,
   "outputs": []
  },
  {
   "metadata": {
    "ExecuteTime": {
     "end_time": "2025-05-26T18:53:12.930481Z",
     "start_time": "2025-05-26T18:53:12.917498Z"
    }
   },
   "cell_type": "code",
   "source": "",
   "id": "4a09178d84d60664",
   "execution_count": 431,
   "outputs": []
  }
 ],
 "metadata": {
  "kernelspec": {
   "display_name": "Python 3",
   "language": "python",
   "name": "python3"
  },
  "language_info": {
   "codemirror_mode": {
    "name": "ipython",
    "version": 2
   },
   "file_extension": ".py",
   "mimetype": "text/x-python",
   "name": "python",
   "nbconvert_exporter": "python",
   "pygments_lexer": "ipython2",
   "version": "2.7.6"
  }
 },
 "nbformat": 4,
 "nbformat_minor": 5
}
